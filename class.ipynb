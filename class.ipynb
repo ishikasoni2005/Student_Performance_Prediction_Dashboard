{
 "cells": [
  {
   "cell_type": "code",
   "execution_count": 1,
   "id": "1ab621bb-038e-4f55-9a7d-c6dd2e027ea4",
   "metadata": {},
   "outputs": [],
   "source": [
    "import numpy as np\n",
    "import pandas as pd\n",
    "df = pd.read_csv(\"student_performance_data.csv\")"
   ]
  },
  {
   "cell_type": "code",
   "execution_count": 2,
   "id": "d1ccff6a-48ff-41e5-9187-89e88813b5c0",
   "metadata": {},
   "outputs": [
    {
     "name": "stdout",
     "output_type": "stream",
     "text": [
      "Index(['student_id', 'name', 'age', 'major', 'math_score', 'science_score',\n",
      "       'english_score', 'attendance_rate', 'study_hours_per_week', 'gpa'],\n",
      "      dtype='object')\n"
     ]
    }
   ],
   "source": [
    "\n",
    "# Show columns\n",
    "print(df.columns)"
   ]
  },
  {
   "cell_type": "code",
   "execution_count": 3,
   "id": "72772750-115b-4d08-9e41-6efba5ea95a5",
   "metadata": {},
   "outputs": [
    {
     "name": "stdout",
     "output_type": "stream",
     "text": [
      "\n",
      "Statistics for 'age':\n",
      "Mean: 21.21\n",
      "Median: 21.0\n",
      "Mode: 21\n",
      "Standard Deviation: 1.913772518489398\n",
      "Variance: 3.6625252525252527\n",
      "Population Standard Deviation: 1.9041796133768474\n",
      "Population Variance: 3.6259\n",
      "Harmonic Mean: 21.037234928432895\n",
      "Quantiles: {0.25: 19.75, 0.5: 21.0, 0.75: 23.0}\n",
      "\n",
      "Statistics for 'math_score':\n",
      "Mean: 75.74947368421053\n",
      "Median: 74.8\n",
      "Mode: 62.3\n",
      "Standard Deviation: 15.343921616428721\n",
      "Variance: 235.4359305711086\n",
      "Population Standard Deviation: 15.262950488608961\n",
      "Population Variance: 232.9576576177285\n",
      "Harmonic Mean: 72.4822308021465\n",
      "Quantiles: {0.25: 65.05, 0.5: 74.8, 0.75: 85.94999999999999}\n",
      "\n",
      "Statistics for 'science_score':\n",
      "Mean: 69.866\n",
      "Median: 68.65\n",
      "Mode: 55.8\n",
      "Standard Deviation: 11.537389547716485\n",
      "Variance: 133.11135757575758\n",
      "Population Standard Deviation: 11.479557656983129\n",
      "Population Variance: 131.780244\n",
      "Harmonic Mean: 67.98937142893807\n",
      "Quantiles: {0.25: 61.875, 0.5: 68.65, 0.75: 76.5}\n",
      "\n",
      "Statistics for 'english_score':\n",
      "Mean: 76.807\n",
      "Median: 76.55\n",
      "Mode: 89.4\n",
      "Standard Deviation: 10.283911677661346\n",
      "Variance: 105.7588393939394\n",
      "Population Standard Deviation: 10.232362923587102\n",
      "Population Variance: 104.701251\n",
      "Harmonic Mean: 75.44117310300045\n",
      "Quantiles: {0.25: 69.57499999999999, 0.5: 76.55, 0.75: 83.325}\n",
      "\n",
      "Statistics for 'attendance_rate':\n",
      "Mean: 79.91354166666667\n",
      "Median: 80.55\n",
      "Mode: 79.2\n",
      "Standard Deviation: 10.99241479903461\n",
      "Variance: 120.8331831140351\n",
      "Population Standard Deviation: 10.935012762830407\n",
      "Population Variance: 119.5745041232639\n",
      "Harmonic Mean: 78.36882341730247\n",
      "Quantiles: {0.25: 72.2, 0.5: 80.55, 0.75: 89.025}\n",
      "\n",
      "Statistics for 'study_hours_per_week':\n",
      "Mean: 20.18\n",
      "Median: 19.0\n",
      "Mode: 10\n",
      "Standard Deviation: 10.107882712482022\n",
      "Variance: 102.16929292929294\n",
      "Population Standard Deviation: 10.057216314666798\n",
      "Population Variance: 101.1476\n",
      "Harmonic Mean: 14.432404182018113\n",
      "Quantiles: {0.25: 10.0, 0.5: 19.0, 0.75: 29.0}\n",
      "\n",
      "Statistics for 'gpa':\n",
      "Mean: 3.0803\n",
      "Median: 3.145\n",
      "Mode: 3.59\n",
      "Standard Deviation: 0.5539818306468802\n",
      "Variance: 0.3068958686868687\n",
      "Population Standard Deviation: 0.5512049618789729\n",
      "Population Variance: 0.30382691\n",
      "Harmonic Mean: 2.975576110848783\n",
      "Quantiles: {0.25: 2.6574999999999998, 0.5: 3.145, 0.75: 3.5825}\n"
     ]
    }
   ],
   "source": [
    "import pandas as pd\n",
    "from statistics import mean, median, mode, stdev, variance, pvariance, pstdev, harmonic_mean\n",
    "\n",
    "# Load data\n",
    "df = pd.read_csv(\"student_performance_data.csv\")\n",
    "\n",
    "# Numeric columns\n",
    "numeric_cols = ['age', 'math_score', 'science_score', 'english_score',\n",
    "                'attendance_rate', 'study_hours_per_week', 'gpa']\n",
    "\n",
    "for col in numeric_cols:\n",
    "    data = df[col].dropna()  # Remove missing values\n",
    "    print(f\"\\nStatistics for '{col}':\")\n",
    "    print(f\"Mean: {mean(data)}\")\n",
    "    print(f\"Median: {median(data)}\")\n",
    "    try:\n",
    "        print(f\"Mode: {mode(data)}\")\n",
    "    except:\n",
    "        print(\"Mode: No unique mode\")\n",
    "    print(f\"Standard Deviation: {stdev(data)}\")\n",
    "    print(f\"Variance: {variance(data)}\")\n",
    "    print(f\"Population Standard Deviation: {pstdev(data)}\")\n",
    "    print(f\"Population Variance: {pvariance(data)}\")\n",
    "    print(f\"Harmonic Mean: {harmonic_mean(data) if all(data>0) else 'N/A'}\")\n",
    "    print(f\"Quantiles: {data.quantile([0.25,0.5,0.75]).to_dict()}\")\n"
   ]
  },
  {
   "cell_type": "code",
   "execution_count": null,
   "id": "ce2b049a-acac-4001-8ceb-6310578436c4",
   "metadata": {},
   "outputs": [],
   "source": []
  }
 ],
 "metadata": {
  "kernelspec": {
   "display_name": "Python [conda env:base] *",
   "language": "python",
   "name": "conda-base-py"
  },
  "language_info": {
   "codemirror_mode": {
    "name": "ipython",
    "version": 3
   },
   "file_extension": ".py",
   "mimetype": "text/x-python",
   "name": "python",
   "nbconvert_exporter": "python",
   "pygments_lexer": "ipython3",
   "version": "3.12.7"
  }
 },
 "nbformat": 4,
 "nbformat_minor": 5
}
